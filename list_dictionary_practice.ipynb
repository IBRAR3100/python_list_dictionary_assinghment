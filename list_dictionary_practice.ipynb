{
 "cells": [
  {
   "cell_type": "markdown",
   "id": "5e81bd79",
   "metadata": {},
   "source": [
    "list is an ordered collection of items and it can store multiple items of different data types\n",
    "lists are using square brackets []"
   ]
  },
  {
   "cell_type": "code",
   "execution_count": 6,
   "id": "1d52f780",
   "metadata": {},
   "outputs": [
    {
     "name": "stdout",
     "output_type": "stream",
     "text": [
      "fruits list: ['apple', 'banana', 'mango']\n",
      "fruits list: banana\n",
      "updated fruits list: ['apple', 'banana', 'mango', 'orange']\n"
     ]
    }
   ],
   "source": [
    "fruits = [\"apple\",\"banana\",\"mango\"]\n",
    "print(\"fruits list:\",fruits)\n",
    "print(\"fruits list:\", fruits[1])\n",
    "fruits.append(\"orange\")\n",
    "print(\"updated fruits list:\", fruits)"
   ]
  },
  {
   "cell_type": "markdown",
   "id": "6f528aa5",
   "metadata": {},
   "source": [
    "Dictionary is a collection of key value pairs each key is unique and each key have specific value\n",
    "dictionary using curly bracket {}"
   ]
  },
  {
   "cell_type": "code",
   "execution_count": 7,
   "id": "c8d92643",
   "metadata": {},
   "outputs": [
    {
     "name": "stdout",
     "output_type": "stream",
     "text": [
      "student info: {'name': 'musa awan', 'age': 10, 'grade': '10th'}\n",
      "name: musa awan\n",
      "update student info: {'name': 'musa awan', 'age': 10, 'grade': '10th', 'school': 'muslim high school narowal'}\n"
     ]
    }
   ],
   "source": [
    "student = {\"name\": \"musa awan\",\n",
    "           \"age\": 10,\n",
    "           \"grade\":\"10th\"}\n",
    "print(\"student info:\",student)\n",
    "print(\"name:\",student[\"name\"])\n",
    "student[\"school\"] = \"muslim high school narowal\"\n",
    "print(\"update student info:\", student)\n"
   ]
  },
  {
   "cell_type": "code",
   "execution_count": null,
   "id": "b228f96e",
   "metadata": {},
   "outputs": [],
   "source": []
  }
 ],
 "metadata": {
  "kernelspec": {
   "display_name": "Python 3",
   "language": "python",
   "name": "python3"
  },
  "language_info": {
   "codemirror_mode": {
    "name": "ipython",
    "version": 3
   },
   "file_extension": ".py",
   "mimetype": "text/x-python",
   "name": "python",
   "nbconvert_exporter": "python",
   "pygments_lexer": "ipython3",
   "version": "3.12.9"
  }
 },
 "nbformat": 4,
 "nbformat_minor": 5
}
